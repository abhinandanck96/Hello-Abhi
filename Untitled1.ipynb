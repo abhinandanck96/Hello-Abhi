{
  "nbformat": 4,
  "nbformat_minor": 0,
  "metadata": {
    "colab": {
      "name": "Untitled1.ipynb",
      "provenance": [],
      "collapsed_sections": [],
      "authorship_tag": "ABX9TyNEq25gh+KmDic4+jcJTDxm",
      "include_colab_link": true
    },
    "kernelspec": {
      "name": "python3",
      "display_name": "Python 3"
    },
    "language_info": {
      "name": "python"
    }
  },
  "cells": [
    {
      "cell_type": "markdown",
      "metadata": {
        "id": "view-in-github",
        "colab_type": "text"
      },
      "source": [
        "<a href=\"https://colab.research.google.com/github/abhinandanck96/Hello-Abhi/blob/main/Untitled1.ipynb\" target=\"_parent\"><img src=\"https://colab.research.google.com/assets/colab-badge.svg\" alt=\"Open In Colab\"/></a>"
      ]
    },
    {
      "cell_type": "code",
      "metadata": {
        "colab": {
          "base_uri": "https://localhost:8080/"
        },
        "id": "I4jCIrcMUFEM",
        "outputId": "705c4afb-778c-4f9d-a939-2f841e47fd53"
      },
      "source": [
        "a=10\n",
        "b=5\n",
        "c=10\n",
        "print(a+b+c)\n",
        "print (a-b-c)"
      ],
      "execution_count": null,
      "outputs": [
        {
          "output_type": "stream",
          "name": "stdout",
          "text": [
            "25\n",
            "-5\n"
          ]
        }
      ]
    },
    {
      "cell_type": "code",
      "metadata": {
        "colab": {
          "base_uri": "https://localhost:8080/"
        },
        "id": "xoH7oWdaz7L_",
        "outputId": "0b84ee46-1f6c-4660-9742-ef21c3583388"
      },
      "source": [
        "x=5;\n",
        "y=3;\n",
        "z=8;\n",
        "\n",
        "list=[1,2,3,4,5,6,7]\n",
        "\n",
        "if(x in list):\n",
        "   print (\"Line-1 x is available in given list\")\n",
        "else:\n",
        "  print (\"Line 1 - x is available in the given list\")\n",
        "if(y not in list):\n",
        "   print (\"Line-2 y is not available in given list\")\n",
        "else:\n",
        "  print (\"Line-2  y is available in the given list\")\n",
        "if(z in list):\n",
        "   print (\"Line-3 z is  available in given list\")\n",
        "else:\n",
        "  print (\"Line-3  z is not available in the given list\")\n",
        "\n"
      ],
      "execution_count": 11,
      "outputs": [
        {
          "output_type": "stream",
          "name": "stdout",
          "text": [
            "Line-1 x is available in given list\n",
            "Line-2  y is available in the given list\n",
            "Line-3  z is not available in the given list\n"
          ]
        }
      ]
    },
    {
      "cell_type": "code",
      "metadata": {
        "colab": {
          "base_uri": "https://localhost:8080/"
        },
        "id": "RhLATMwq5l6e",
        "outputId": "85d72174-2692-4337-f26e-9960efa92d25"
      },
      "source": [
        " x=10;\n",
        " y=10;\n",
        "\n",
        " if(x is y):\n",
        "   print(\"x & y  SAME identity\")\n",
        "y=30;\n",
        "if ( x is not y ):\n",
        "\tprint (\"x & y have DIFFERENT identity\")"
      ],
      "execution_count": null,
      "outputs": [
        {
          "output_type": "stream",
          "name": "stdout",
          "text": [
            "x & y  SAME identity\n",
            "x & y have DIFFERENT identity\n"
          ]
        }
      ]
    },
    {
      "cell_type": "code",
      "metadata": {
        "colab": {
          "base_uri": "https://localhost:8080/"
        },
        "id": "Ib1qmJjh7HTz",
        "outputId": "72733c57-2c7f-4f2c-c8ff-9c13b839ab81"
      },
      "source": [
        "a = True\n",
        "b = False\n",
        "print('a and b is',a and b)\n",
        "print('a or b is',a or b)\n",
        "print('not a is',not a)"
      ],
      "execution_count": null,
      "outputs": [
        {
          "output_type": "stream",
          "name": "stdout",
          "text": [
            "a and b is False\n",
            "a or b is True\n",
            "not a is False\n"
          ]
        }
      ]
    },
    {
      "cell_type": "code",
      "metadata": {
        "colab": {
          "base_uri": "https://localhost:8080/"
        },
        "id": "D-opuQvQ8EIf",
        "outputId": "b7b4f014-ba15-45fa-ecf6-a661cc8404ff"
      },
      "source": [
        "x=input(\"enter number\")\n",
        "y=input(\"enter number\")\n",
        "z=input(\"enter number\")\n",
        "\n",
        "if(x>y) and (x>y):\n",
        "  print(\"x is greater number\")\n",
        "elif(y>x) and ( y>z):\n",
        "  print(\"y is greater number\")\n",
        "else:\n",
        "  print(\"z is greater number\")\n"
      ],
      "execution_count": 32,
      "outputs": [
        {
          "output_type": "stream",
          "name": "stdout",
          "text": [
            "enter number4\n",
            "enter number6\n",
            "enter number8\n",
            "z is greater number\n"
          ]
        }
      ]
    },
    {
      "cell_type": "code",
      "metadata": {
        "colab": {
          "base_uri": "https://localhost:8080/",
          "height": 288
        },
        "id": "bFrSbQoxACpK",
        "outputId": "218f61d6-b5ec-4cac-bab2-548fbd70acfc"
      },
      "source": [
        "choice = input(\"Enter choice(1/2/3/4):\")\n",
        " \n",
        "num1 = int(input(\"Enter first number: \"))\n",
        "num2 = int(input(\"Enter second number: \"))\n",
        " \n",
        "if choice == '1':\n",
        "   print(num1,\"+\",num2,\"=\",  add(num1,num2))\n",
        " \n",
        "elif choice == '2':\n",
        "   print(num1,\"-\",num2,\"=\", subtract(num1,num2))\n",
        " \n",
        "elif choice == '3':\n",
        "   print(num1,\"*\",num2,\"=\", multiply(num1,num2))\n",
        " \n",
        "elif choice == '4':\n",
        "   print(num1,\"/\",num2,\"=\", divide(num1,num2))\n",
        "else:\n",
        "   print(\"Invalid input\")"
      ],
      "execution_count": 3,
      "outputs": [
        {
          "name": "stdout",
          "output_type": "stream",
          "text": [
            "Enter choice(1/2/3/4):1\n",
            "Enter first number: 4\n",
            "Enter second number: 5\n"
          ]
        },
        {
          "output_type": "error",
          "ename": "NameError",
          "evalue": "ignored",
          "traceback": [
            "\u001b[0;31m---------------------------------------------------------------------------\u001b[0m",
            "\u001b[0;31mNameError\u001b[0m                                 Traceback (most recent call last)",
            "\u001b[0;32m<ipython-input-3-4b1ef6927faa>\u001b[0m in \u001b[0;36m<module>\u001b[0;34m()\u001b[0m\n\u001b[1;32m      5\u001b[0m \u001b[0;34m\u001b[0m\u001b[0m\n\u001b[1;32m      6\u001b[0m \u001b[0;32mif\u001b[0m \u001b[0mchoice\u001b[0m \u001b[0;34m==\u001b[0m \u001b[0;34m'1'\u001b[0m\u001b[0;34m:\u001b[0m\u001b[0;34m\u001b[0m\u001b[0;34m\u001b[0m\u001b[0m\n\u001b[0;32m----> 7\u001b[0;31m    \u001b[0mprint\u001b[0m\u001b[0;34m(\u001b[0m\u001b[0mnum1\u001b[0m\u001b[0;34m,\u001b[0m\u001b[0;34m\"+\"\u001b[0m\u001b[0;34m,\u001b[0m\u001b[0mnum2\u001b[0m\u001b[0;34m,\u001b[0m\u001b[0;34m\"=\"\u001b[0m\u001b[0;34m,\u001b[0m \u001b[0madd\u001b[0m\u001b[0;34m(\u001b[0m\u001b[0mnum1\u001b[0m\u001b[0;34m,\u001b[0m\u001b[0mnum2\u001b[0m\u001b[0;34m)\u001b[0m\u001b[0;34m)\u001b[0m\u001b[0;34m\u001b[0m\u001b[0;34m\u001b[0m\u001b[0m\n\u001b[0m\u001b[1;32m      8\u001b[0m \u001b[0;34m\u001b[0m\u001b[0m\n\u001b[1;32m      9\u001b[0m \u001b[0;32melif\u001b[0m \u001b[0mchoice\u001b[0m \u001b[0;34m==\u001b[0m \u001b[0;34m'2'\u001b[0m\u001b[0;34m:\u001b[0m\u001b[0;34m\u001b[0m\u001b[0;34m\u001b[0m\u001b[0m\n",
            "\u001b[0;31mNameError\u001b[0m: name 'add' is not defined"
          ]
        }
      ]
    },
    {
      "cell_type": "code",
      "metadata": {
        "colab": {
          "base_uri": "https://localhost:8080/"
        },
        "id": "zd_HqL8BYx6i",
        "outputId": "2019ef94-d980-41ee-dcb5-d5a6f4358de4"
      },
      "source": [
        "nterms = int(input(\"How many terms? \"))\n",
        " \n",
        "# first two terms\n",
        "n1 = 0\n",
        "n2 = 1\n",
        "count = 2\n",
        "if nterms <= 0:\n",
        "   print(\"Plese enter a positive integer\")\n",
        "elif nterms == 1:\n",
        "   print(\"Fibonacci sequence:\")\n",
        "   print(n1)\n",
        "else:\n",
        "  print (\"fabinose series\")\n",
        "  print(n1,\",\",n2,end=', ')\n",
        "while count < nterms:\n",
        "       nth = n1 + n2\n",
        "       print(nth,end=' , ')\n",
        "       # update values\n",
        "       n1 = n2\n",
        "       n2 = nth\n",
        "       count += 1"
      ],
      "execution_count": 10,
      "outputs": [
        {
          "output_type": "stream",
          "name": "stdout",
          "text": [
            "How many terms? 4\n",
            "fabinose series\n",
            "0 , 1, 1 , 2 , "
          ]
        }
      ]
    },
    {
      "cell_type": "code",
      "metadata": {
        "colab": {
          "base_uri": "https://localhost:8080/"
        },
        "id": "vqkcbozPzwU5",
        "outputId": "96554036-3f87-4424-e4c6-3a15edea91d9"
      },
      "source": [
        "x=11;\n",
        "if (x%2==0):\n",
        "  print(\"number is even\")\n",
        "else:\n",
        "  print(\"number is odd\")"
      ],
      "execution_count": 2,
      "outputs": [
        {
          "output_type": "stream",
          "name": "stdout",
          "text": [
            "number is odd\n"
          ]
        }
      ]
    },
    {
      "cell_type": "code",
      "metadata": {
        "id": "Adzvfj8b0s-9"
      },
      "source": [
        "def factorial(n):\n",
        "    fact = 1\n",
        "    for num in range(2, n + 1):\n",
        "        fact *= num\n",
        "    return fact\n",
        "    print(factorial(n))"
      ],
      "execution_count": 8,
      "outputs": []
    },
    {
      "cell_type": "code",
      "metadata": {
        "colab": {
          "base_uri": "https://localhost:8080/"
        },
        "id": "9tJUjUGU0tJ0",
        "outputId": "021a588f-0206-49a4-b6e6-ca14e16ac905"
      },
      "source": [
        "def factorial(n):\n",
        "   if n == 1: #base case\n",
        "       return n\n",
        "   else:\n",
        "       return n*factorial(n-1) # recursive case\n",
        "\n",
        "number = 9\n",
        "if number < 0:\n",
        "   print(\"Factorial exists for positive numbers only\")\n",
        "elif number == 0:\n",
        "   print(\"Factorial of 0 : 1\")\n",
        "else:\n",
        "   print(\"Factorial of\",number,\":\",factorial(number))"
      ],
      "execution_count": 9,
      "outputs": [
        {
          "output_type": "stream",
          "name": "stdout",
          "text": [
            "Factorial of 9 : 362880\n"
          ]
        }
      ]
    },
    {
      "cell_type": "code",
      "metadata": {
        "colab": {
          "base_uri": "https://localhost:8080/"
        },
        "id": "QMSHW87O-tXd",
        "outputId": "bae70c80-2b83-46d8-a1e3-228e398fc8dd"
      },
      "source": [
        "x=10;\n",
        "y=15;\n",
        "\n",
        "if(x==y):\n",
        "  print(\"x is equal to y\")\n",
        "elif(x>y):\n",
        "  print(\"x is greater than y\")\n",
        "else:\n",
        "  print(\"x is less than y\")"
      ],
      "execution_count": 34,
      "outputs": [
        {
          "output_type": "stream",
          "name": "stdout",
          "text": [
            "x is less than y\n"
          ]
        }
      ]
    },
    {
      "cell_type": "code",
      "metadata": {
        "colab": {
          "base_uri": "https://localhost:8080/"
        },
        "id": "dHJ0NwpD3_xY",
        "outputId": "5e4fbd29-9931-46c9-920f-24f1cb06d601"
      },
      "source": [
        "var1=\"red\"\n",
        "var2=\"black\"\n",
        "var3=\"black\"\n",
        "var4=\"gray\"\n",
        "\n",
        "if var1==var2:\n",
        "  print(\"yes,its same color\")\n",
        "elif var2==var3:\n",
        "  print(\"yes,its same color\")  \n",
        "else:print(\"No,its different\")"
      ],
      "execution_count": null,
      "outputs": [
        {
          "output_type": "stream",
          "name": "stdout",
          "text": [
            "yes,its same color\n"
          ]
        }
      ]
    },
    {
      "cell_type": "code",
      "metadata": {
        "colab": {
          "base_uri": "https://localhost:8080/"
        },
        "id": "eVK8OunP5U7R",
        "outputId": "6c41069b-d0f6-495f-f741-e7fbd65e50f0"
      },
      "source": [
        "pern1_name=input(\"enter your name\")\n",
        "pern1_wallet=input(\"enter the amount\")\n",
        "\n",
        "pern2_name=input(\"enter your name\")\n",
        "pern2_wallet=input(\"enter the amount\")\n",
        "\n",
        "pern3_name=input(\"enter your name\")\n",
        "pern3_wallet=input(\"enter the amount\")\n",
        "\n",
        "if float(pern1_wallet>pern2_wallet) and float(pern1_wallet>pern3_wallet):\n",
        "  print(pern1_name+\"is richest person\")\n",
        "elif  float(pern2_wallet>pern1_wallet) and float(pern2_wallet>pern3_wallet):\n",
        "  print(pern2_name+\"is richest person\")\n",
        "elif  float(pern3_wallet>pern1_wallet) and float(pern3_wallet>pern2_wallet):\n",
        "  print(pern3_name+\" is richest person\")\n",
        "\n"
      ],
      "execution_count": null,
      "outputs": [
        {
          "output_type": "stream",
          "name": "stdout",
          "text": [
            "enter your namecheta\n",
            "enter the amount1500\n",
            "enter your namehemu\n",
            "enter the amount2000\n",
            "enter your namechiru\n",
            "enter the amount6000\n",
            "chiruis richest person\n"
          ]
        }
      ]
    },
    {
      "cell_type": "code",
      "metadata": {
        "colab": {
          "base_uri": "https://localhost:8080/"
        },
        "id": "olx7j1NfbU5u",
        "outputId": "defa9e26-a1df-4759-c23e-0f0a3753f489"
      },
      "source": [
        "I_want_to_eat_=False\n",
        "I_want_to_drink_=True\n",
        "\n",
        "if I_want_to_eat_ or I_want_to_drink_:\n",
        " print(\"Let's have a pizza and drinks\")\n",
        "else:print(\"I'm not eat\")"
      ],
      "execution_count": null,
      "outputs": [
        {
          "output_type": "stream",
          "name": "stdout",
          "text": [
            "Let's have a pizza and drinks\n"
          ]
        }
      ]
    },
    {
      "cell_type": "code",
      "metadata": {
        "colab": {
          "base_uri": "https://localhost:8080/"
        },
        "id": "gzhYNqINdw4B",
        "outputId": "4a4e0251-280c-413d-b3e1-289750f4c25a"
      },
      "source": [
        "I_want_to_eat_=False\n",
        "I_want_to_drink_=True\n",
        "\n",
        "if I_want_to_eat_:\n",
        " print(\"Let's have a pizza\")\n",
        "elif I_want_to_drink_:\n",
        " print(\"Let's have a drink\")\n",
        "else:print(\"I'm not Good\")"
      ],
      "execution_count": null,
      "outputs": [
        {
          "output_type": "stream",
          "name": "stdout",
          "text": [
            "Let's have a drink\n"
          ]
        }
      ]
    },
    {
      "cell_type": "code",
      "metadata": {
        "colab": {
          "base_uri": "https://localhost:8080/"
        },
        "id": "edrTrvRmBRkI",
        "outputId": "0107c7ea-f2e0-4d1d-e0c1-52448205656e"
      },
      "source": [
        "print(\"Let's have \\n a pizza\")"
      ],
      "execution_count": null,
      "outputs": [
        {
          "output_type": "stream",
          "name": "stdout",
          "text": [
            "Let's have \n",
            " a pizza\n"
          ]
        }
      ]
    },
    {
      "cell_type": "code",
      "metadata": {
        "colab": {
          "base_uri": "https://localhost:8080/"
        },
        "id": "Yp4Yei8TCJMC",
        "outputId": "50431080-13ce-4bd2-c07f-a03ba85aa1d9"
      },
      "source": [
        "print (10+20+30)"
      ],
      "execution_count": null,
      "outputs": [
        {
          "output_type": "stream",
          "name": "stdout",
          "text": [
            "60\n"
          ]
        }
      ]
    },
    {
      "cell_type": "code",
      "metadata": {
        "colab": {
          "base_uri": "https://localhost:8080/"
        },
        "id": "DavbH5fyDFm6",
        "outputId": "69ea5504-a196-44e7-ba81-9055052109e0"
      },
      "source": [
        "Age=25\n",
        "print (\"Hello,my age is \"+str(Age))"
      ],
      "execution_count": null,
      "outputs": [
        {
          "output_type": "stream",
          "name": "stdout",
          "text": [
            "Hello,my age is 25\n"
          ]
        }
      ]
    },
    {
      "cell_type": "code",
      "metadata": {
        "colab": {
          "base_uri": "https://localhost:8080/"
        },
        "id": "TnALVy_eEu86",
        "outputId": "cce11709-6edc-436c-f87c-bb70d012c64a"
      },
      "source": [
        "print (max(1,2,4,7,19))\n",
        "print (min(1,3,4,9,7))\n",
        "print (round (52/14+pow(5,2)))\n",
        "print (pow(5,2))"
      ],
      "execution_count": null,
      "outputs": [
        {
          "output_type": "stream",
          "name": "stdout",
          "text": [
            "19\n",
            "1\n",
            "29\n",
            "25\n"
          ]
        }
      ]
    },
    {
      "cell_type": "code",
      "metadata": {
        "colab": {
          "base_uri": "https://localhost:8080/"
        },
        "id": "XtYbiM9iI-RQ",
        "outputId": "fd8e7fa3-3965-4c37-d814-5a02ce7c34bd"
      },
      "source": [
        "Age=(input (\"what is your age \"))\n",
        "\n",
        "print (\"My Age is \"+Age)"
      ],
      "execution_count": null,
      "outputs": [
        {
          "output_type": "stream",
          "name": "stdout",
          "text": [
            "what is your age 27\n",
            "My Age is 27\n"
          ]
        }
      ]
    },
    {
      "cell_type": "code",
      "metadata": {
        "colab": {
          "base_uri": "https://localhost:8080/"
        },
        "id": "IVdkGs8GLP-1",
        "outputId": "ec8a51db-b771-45a2-8b25-574dbd49445f"
      },
      "source": [
        "WPrice_Product_1=input (\"what is the price of product\")\n",
        "Quantity_product_1=input (\"what will be the quantity\")\n",
        "Price_Product_2=input (\"what is the price of product\")\n",
        "Quantity_product_2=input (\"what will be the quantity\")\n",
        "Price_Product_3=input (\"what is the price of product\")\n",
        "Quantity_product_3=input (\"what will be the quantity\")\n",
        "Result_product_1 = float(Price_Product_1)+float(Quantity_product_1)\n",
        "\n",
        "Result_product_2 = float(Price_Product_2)+float(Quantity_product_2)\n",
        "Result_product_3 = float(Price_Product_3)+float(Quantity_product_3)\n",
        "print (Result_product_1, Result_product_2, Result_product_3)"
      ],
      "execution_count": null,
      "outputs": [
        {
          "output_type": "stream",
          "name": "stdout",
          "text": [
            "what is the price of product11\n",
            "what will be the quantity22\n",
            "what is the price of product22\n",
            "what will be the quantity44\n",
            "what is the price of product77\n",
            "what will be the quantity11\n",
            "44.0 66.0 88.0\n"
          ]
        }
      ]
    },
    {
      "cell_type": "code",
      "metadata": {
        "colab": {
          "base_uri": "https://localhost:8080/"
        },
        "id": "PFY1X78-OjI8",
        "outputId": "98c2dac7-c935-42b8-985e-bcb188afcef2"
      },
      "source": [
        "Name_1=input (\"what is your name \")\n",
        "Name_2=input (\"what is your name \")\n",
        "Name_3=input (\"what is your name \")\n",
        "\n",
        "Slices_in_the_pizza = input (\"how many slice in pizza\")\n",
        "Price_of_the_pizza = input (\"what is the price of pizza\")\n",
        "\n",
        "Percentage_ate_by_Person_1=input (Name_1+\"what percentage of pizza you have ate\")\n",
        "Percentage_ate_by_Person_2=input (Name_2+\"what percentage of pizza you have ate\")\n",
        "Percentage_ate_by_Person_3=input (Name_3+\"what percentage of pizza you have ate\")\n",
        "\n",
        "Number_of_slice_ate_Person_1=float (Percentage_ate_by_Person_1)+float (Slices_in_the_pizza)\n",
        "Number_of_slice_ate_Person_2=float (Percentage_ate_by_Person_2)+float (Slices_in_the_pizza)\n",
        "Number_of_slice_ate_Person_3=float (Percentage_ate_by_Person_3)+float (Slices_in_the_pizza)\n",
        "\n",
        "Price_paid_by_Name_1=float (Percentage_ate_by_Person_1)+float (Price_of_the_pizza)\n",
        "Price_paid_by_Name_2=float (Percentage_ate_by_Person_2)+float (Price_of_the_pizza)\n",
        "Price_paid_by_Name_3=float (Percentage_ate_by_Person_3)+float (Price_of_the_pizza)\n",
        "\n",
        "print(Name_1+\"have ate\"+str(Number_of_slice_ate_Person_1)+\"slice and have paid\"+str(Price_paid_by_Name_1)+\"his meal\")\n",
        "print(Name_2+\"have ate\"+str(Number_of_slice_ate_Person_2)+\"slice and have paid\"+str(Price_paid_by_Name_2)+\"his meal\")\n",
        "print(Name_3+\"have ate\"+str(Number_of_slice_ate_Person_3)+\"slice and have paid\"+str(Price_paid_by_Name_3)+\"his meal\")"
      ],
      "execution_count": null,
      "outputs": [
        {
          "output_type": "stream",
          "name": "stdout",
          "text": [
            "what is your name Abhi\n",
            "what is your name Veeru\n",
            "what is your name Hemu\n",
            "how many slice in pizza5\n",
            "what is the price of pizza2\n",
            "Abhiwhat percentage of pizza you have ate3\n",
            "Veeruwhat percentage of pizza you have ate48\n",
            "Hemuwhat percentage of pizza you have ate49\n",
            "Abhihave ate8.0slice and have paid5.0his meal\n",
            "Veeruhave ate53.0slice and have paid50.0his meal\n",
            "Hemuhave ate54.0slice and have paid51.0his meal\n"
          ]
        }
      ]
    },
    {
      "cell_type": "code",
      "metadata": {
        "id": "CJ4T5JHUGGBX"
      },
      "source": [
        ""
      ],
      "execution_count": null,
      "outputs": []
    },
    {
      "cell_type": "code",
      "metadata": {
        "colab": {
          "base_uri": "https://localhost:8080/"
        },
        "id": "cGRfi6To4Gx0",
        "outputId": "bc539192-9ddf-43eb-f68c-b07bee68afa4"
      },
      "source": [
        "Person_name=\"Mr.Veeresh\";\n",
        "object_1=\"car\";\n",
        "object_1_color=\"red\";\n",
        "object_name_2=\"House\";\n",
        "object_2_age=\"20 years old\";\n",
        "\n",
        "\n",
        "\n",
        "\n",
        "\n",
        "print(\"Hello \"+Person_name)\n",
        "print(\"I am interested by your \"+object_1+\" is it \"+object_1_color)\n",
        "print (\"also\"+Person_name+\"is your \"+object_name_2+\" \"+object_2_age)\n",
        "print (\"thank you\")"
      ],
      "execution_count": null,
      "outputs": [
        {
          "output_type": "stream",
          "name": "stdout",
          "text": [
            "Hello Mr.Veeresh\n",
            "I am interested by your car is it red\n",
            "alsoMr.Veereshis your House 20 years old\n",
            "thank you\n"
          ]
        }
      ]
    },
    {
      "cell_type": "code",
      "metadata": {
        "colab": {
          "base_uri": "https://localhost:8080/"
        },
        "id": "qUxMAJ-z9Wrf",
        "outputId": "3c489ac5-a2e0-4bca-e478-c54d29bae62a"
      },
      "source": [
        "Sentence=\"I love Pizza\"\n",
        "#print (Sentence.replace(\"Pizza\",\"Berger\")\n",
        "print (Sentence.index(\"v\"))"
      ],
      "execution_count": null,
      "outputs": [
        {
          "output_type": "stream",
          "name": "stdout",
          "text": [
            "4\n"
          ]
        }
      ]
    },
    {
      "cell_type": "code",
      "metadata": {
        "colab": {
          "base_uri": "https://localhost:8080/"
        },
        "id": "zal0uUDd-5vN",
        "outputId": "a97e3071-2a40-469c-c839-a75f424adb05"
      },
      "source": [
        "# Python program to check if the input number is odd or even.\n",
        "# A number is even if division by 2 gives a remainder of 0.\n",
        "# If the remainder is 1, it is an odd number.\n",
        "\n",
        "num = int(input(\"Enter a number: \"))\n",
        "if (num % 2) == 0:\n",
        "   print(\"{0} is Even\".format(num))\n",
        "else:\n",
        "   print(\"{0} is Odd\".format(num))"
      ],
      "execution_count": null,
      "outputs": [
        {
          "output_type": "stream",
          "name": "stdout",
          "text": [
            "Enter a number: 6\n",
            "6 is Even\n"
          ]
        }
      ]
    },
    {
      "cell_type": "code",
      "metadata": {
        "colab": {
          "base_uri": "https://localhost:8080/"
        },
        "id": "3uFdzDsjEdwn",
        "outputId": "2263f301-7139-4f86-edc9-1617a173ce1d"
      },
      "source": [
        "thislist = [\"apple\", \"banana\", \"cherry\"]\n",
        "print(thislist[0:2])"
      ],
      "execution_count": null,
      "outputs": [
        {
          "output_type": "stream",
          "name": "stdout",
          "text": [
            "['apple', 'banana']\n"
          ]
        }
      ]
    },
    {
      "cell_type": "code",
      "metadata": {
        "id": "LB1IkH66HvwR",
        "colab": {
          "base_uri": "https://localhost:8080/"
        },
        "outputId": "33fe364f-af9e-4463-ff33-90e069650a09"
      },
      "source": [
        "food = [\"Dosa\",\"idli\",\"vada\",\"palav\"]\n",
        "prices = [589.36, 237.81, 230.87, 463.98, 453.42] \n",
        "prices.sort() \n",
        "food.insert(2,\"upma\")\n",
        "food.extend(prices)\n",
        "print(food.count(\"palav\"))"
      ],
      "execution_count": null,
      "outputs": [
        {
          "output_type": "stream",
          "name": "stdout",
          "text": [
            "1\n"
          ]
        }
      ]
    },
    {
      "cell_type": "code",
      "metadata": {
        "colab": {
          "base_uri": "https://localhost:8080/"
        },
        "id": "9lkmJ--Ca_p6",
        "outputId": "8650dd7a-65b0-413e-e46c-5adfca5bac0b"
      },
      "source": [
        "import random\n",
        "import math\n",
        "# Taking Inputs\n",
        "lower = int(input(\"Enter Lower bound:- \"))\n",
        "\n",
        "# Taking Inputs\n",
        "upper = int(input(\"Enter Upper bound:- \"))\n",
        "\n",
        "# generating random number between\n",
        "# the lower and upper\n",
        "x = random.randint(lower, upper)\n",
        "print(\"\\n\\tYou've only \",\n",
        "\tround(math.log(upper - lower + 1, 2)),\n",
        "\t\" chances to guess the integer!\\n\")\n",
        "\n",
        "# Initializing the number of guesses.\n",
        "count = 0\n",
        "\n",
        "# for calculation of minimum number of\n",
        "# guesses depends upon range\n",
        "while count < math.log(upper - lower + 1, 2):\n",
        "\tcount += 1\n",
        "\n",
        "\t# taking guessing number as input\n",
        "\tguess = int(input(\"Guess a number:- \"))\n",
        "\n",
        "\t# Condition testing\n",
        "\tif x == guess:\n",
        "\t\tprint(\"Congratulations you did it in \",\n",
        "\t\t\tcount, \" try\")\n",
        "\t\t# Once guessed, loop will break\n",
        "\t\tbreak\n",
        "\telif x > guess:\n",
        "\t\tprint(\"You guessed too small!\")\n",
        "\telif x < guess:\n",
        "\t\tprint(\"You Guessed too high!\")\n",
        "\n",
        "# If Guessing is more than required guesses,\n",
        "# shows this output.\n",
        "if count >= math.log(upper - lower + 1, 2):\n",
        "\tprint(\"\\nThe number is %d\" % x)\n",
        "\tprint(\"\\tBetter Luck Next time!\")\n",
        "\n",
        "# Better to use This source Code on pycharm!\n"
      ],
      "execution_count": null,
      "outputs": [
        {
          "output_type": "stream",
          "name": "stdout",
          "text": [
            "Enter Lower bound:- 2\n",
            "Enter Upper bound:- 4\n",
            "\n",
            "\tYou've only  2  chances to guess the integer!\n",
            "\n",
            "Guess a number:- 4\n",
            "You Guessed too high!\n",
            "Guess a number:- 1\n",
            "You guessed too small!\n",
            "\n",
            "The number is 2\n",
            "\tBetter Luck Next time!\n"
          ]
        }
      ]
    },
    {
      "cell_type": "code",
      "metadata": {
        "colab": {
          "base_uri": "https://localhost:8080/"
        },
        "id": "FMp1w9N19WDK",
        "outputId": "762cdb61-b0f8-4822-edd9-a559c40890a1"
      },
      "source": [
        "our_password =\"pass123\"\n",
        "your_answer=\"\"\n",
        "number_of_try=0\n",
        "number_of_Max_try=2\n",
        "Max_try=\"not reached\"\n",
        "\n",
        "\n",
        "while your_answer!=our_password and Max_try!=\"Reached\":\n",
        "    if number_of_try<number_of_Max_try:\n",
        "     your_answer=input(\"what is the password\")\n",
        "    number_of_try=number_of_try+1\n",
        "\n",
        "else:\n",
        "          Max_try=\"reached\"\n",
        "if Max_try==\"reached\":\n",
        " print(\"account blocked\")\n",
        "else:print(\"access granted\")"
      ],
      "execution_count": null,
      "outputs": [
        {
          "output_type": "stream",
          "name": "stdout",
          "text": [
            "what is the passwordpass123\n",
            "account blocked\n"
          ]
        }
      ]
    },
    {
      "cell_type": "code",
      "metadata": {
        "colab": {
          "base_uri": "https://localhost:8080/"
        },
        "id": "w44iKOLyvsER",
        "outputId": "4b7f709c-938c-4cd1-9974-fcc12799f59d"
      },
      "source": [
        "# Program to check if a number is prime or not\n",
        "\n",
        "num = 407\n",
        "\n",
        "# To take input from the user\n",
        "#num = int(input(\"Enter a number: \"))\n",
        "\n",
        "# prime numbers are greater than 1\n",
        "if num > 1:\n",
        "   # check for factors\n",
        "   for i in range(2,num):\n",
        "       if (num % i) == 0:\n",
        "           print(num,\"is not a prime number\")\n",
        "           print(i,\"times\",num//i,\"is\",num)\n",
        "           break\n",
        "   else:\n",
        "       print(num,\"is a prime number\")\n",
        "       \n",
        "# if input number is less than\n",
        "# or equal to 1, it is not prime\n",
        "else:\n",
        "   print(num,\"is not a prime number\")\n"
      ],
      "execution_count": null,
      "outputs": [
        {
          "output_type": "stream",
          "name": "stdout",
          "text": [
            "407 is not a prime number\n",
            "11 times 37 is 407\n"
          ]
        }
      ]
    },
    {
      "cell_type": "code",
      "metadata": {
        "colab": {
          "base_uri": "https://localhost:8080/"
        },
        "id": "qP3YenmqPkVi",
        "outputId": "aba57488-c1dd-4225-ce55-1669c6286d01"
      },
      "source": [
        "thistuple = (\"apple\", \"banana\", \"cherry\")\n",
        "print(thistuple)"
      ],
      "execution_count": null,
      "outputs": [
        {
          "output_type": "stream",
          "name": "stdout",
          "text": [
            "('apple', 'banana', 'cherry')\n"
          ]
        }
      ]
    },
    {
      "cell_type": "code",
      "metadata": {
        "colab": {
          "base_uri": "https://localhost:8080/"
        },
        "id": "vOeqCpiRxie_",
        "outputId": "e496f99b-cc0e-4ebc-9f3b-d2a5a20dea9c"
      },
      "source": [
        "# Python Program to find the factors of a number\n",
        "\n",
        "# This function computes the factor of the argument passed\n",
        "def print_factors(x):\n",
        "   print(\"The factors of\",x,\"are:\")\n",
        "   for i in range(1, x + 1):\n",
        "       if x % i == 0:\n",
        "           print(i)\n",
        "\n",
        "num = 320\n",
        "\n",
        "print_factors(num)\n"
      ],
      "execution_count": null,
      "outputs": [
        {
          "output_type": "stream",
          "name": "stdout",
          "text": [
            "The factors of 320 are:\n",
            "1\n",
            "2\n",
            "4\n",
            "5\n",
            "8\n",
            "10\n",
            "16\n",
            "20\n",
            "32\n",
            "40\n",
            "64\n",
            "80\n",
            "160\n",
            "320\n"
          ]
        }
      ]
    },
    {
      "cell_type": "code",
      "metadata": {
        "colab": {
          "base_uri": "https://localhost:8080/"
        },
        "id": "ztApVUvR0oTe",
        "outputId": "f5c38b51-84d9-4afe-95ec-98f555f06e8f"
      },
      "source": [
        "string = \"Python is awesome\"\n",
        "\n",
        "# print lowercase string\n",
        "print(\"Uppercase string:\", string.casefold())"
      ],
      "execution_count": null,
      "outputs": [
        {
          "output_type": "stream",
          "name": "stdout",
          "text": [
            "Uppercase string: python is awesome\n"
          ]
        }
      ]
    },
    {
      "cell_type": "code",
      "metadata": {
        "colab": {
          "base_uri": "https://localhost:8080/"
        },
        "id": "3iSFyfIO1XHc",
        "outputId": "946950a7-0186-4272-8e83-beed7be13e37"
      },
      "source": [
        "message = 'python is popular programming language'\n",
        "\n",
        "# number of occurrence of 'p'\n",
        "print('Number of occurrence of p:', message.count('o'))\n",
        "\n",
        "# Output: Number of occurrence of p: 4"
      ],
      "execution_count": null,
      "outputs": [
        {
          "output_type": "stream",
          "name": "stdout",
          "text": [
            "Number of occurrence of p: 3\n"
          ]
        }
      ]
    },
    {
      "cell_type": "code",
      "metadata": {
        "colab": {
          "base_uri": "https://localhost:8080/"
        },
        "id": "nhgh4xDbRwyz",
        "outputId": "c4f6a087-af28-4145-8bf8-e4ff4ceb92ac"
      },
      "source": [
        "\n",
        "aTuple = (123, 'xyz', 'zara', 'abc');\n",
        "aList = list(aTuple)\n",
        "print (\"List elements : \", aList)\n",
        "#print(aList.index(\"123\"))"
      ],
      "execution_count": null,
      "outputs": [
        {
          "output_type": "stream",
          "name": "stdout",
          "text": [
            "List elements :  [123, 'xyz', 'zara', 'abc']\n"
          ]
        }
      ]
    },
    {
      "cell_type": "code",
      "metadata": {
        "colab": {
          "base_uri": "https://localhost:8080/"
        },
        "id": "79ol5HutUu4c",
        "outputId": "c193e363-69f9-4b09-b1ce-8dc8cdce558f"
      },
      "source": [
        "colors={\"B\":\"blue\",\n",
        "       \"o\":\"orange\",\n",
        "       \"a\":\"apple\",\n",
        "       }\n",
        "print(colors.get(\"o\",\"orange\"))"
      ],
      "execution_count": null,
      "outputs": [
        {
          "output_type": "stream",
          "name": "stdout",
          "text": [
            "orange\n"
          ]
        }
      ]
    },
    {
      "cell_type": "code",
      "metadata": {
        "colab": {
          "base_uri": "https://localhost:8080/"
        },
        "id": "V7kpEk0cWzdJ",
        "outputId": "90bc8040-802e-4477-d3ba-1835e04366aa"
      },
      "source": [
        "variable_1=250\n",
        "variable_2=2500\n",
        "\n",
        "\n",
        "while variable_1<variable_2 :\n",
        "  print(variable_1)\n",
        "  print(\"im not good\")\n",
        "  variable_1=variable_1+5\n"
      ],
      "execution_count": null,
      "outputs": [
        {
          "output_type": "stream",
          "name": "stdout",
          "text": [
            "250\n",
            "im not good\n",
            "255\n",
            "im not good\n",
            "260\n",
            "im not good\n",
            "265\n",
            "im not good\n",
            "270\n",
            "im not good\n",
            "275\n",
            "im not good\n",
            "280\n",
            "im not good\n",
            "285\n",
            "im not good\n",
            "290\n",
            "im not good\n",
            "295\n",
            "im not good\n",
            "300\n",
            "im not good\n",
            "305\n",
            "im not good\n",
            "310\n",
            "im not good\n",
            "315\n",
            "im not good\n",
            "320\n",
            "im not good\n",
            "325\n",
            "im not good\n",
            "330\n",
            "im not good\n",
            "335\n",
            "im not good\n",
            "340\n",
            "im not good\n",
            "345\n",
            "im not good\n",
            "350\n",
            "im not good\n",
            "355\n",
            "im not good\n",
            "360\n",
            "im not good\n",
            "365\n",
            "im not good\n",
            "370\n",
            "im not good\n",
            "375\n",
            "im not good\n",
            "380\n",
            "im not good\n",
            "385\n",
            "im not good\n",
            "390\n",
            "im not good\n",
            "395\n",
            "im not good\n",
            "400\n",
            "im not good\n",
            "405\n",
            "im not good\n",
            "410\n",
            "im not good\n",
            "415\n",
            "im not good\n",
            "420\n",
            "im not good\n",
            "425\n",
            "im not good\n",
            "430\n",
            "im not good\n",
            "435\n",
            "im not good\n",
            "440\n",
            "im not good\n",
            "445\n",
            "im not good\n",
            "450\n",
            "im not good\n",
            "455\n",
            "im not good\n",
            "460\n",
            "im not good\n",
            "465\n",
            "im not good\n",
            "470\n",
            "im not good\n",
            "475\n",
            "im not good\n",
            "480\n",
            "im not good\n",
            "485\n",
            "im not good\n",
            "490\n",
            "im not good\n",
            "495\n",
            "im not good\n",
            "500\n",
            "im not good\n",
            "505\n",
            "im not good\n",
            "510\n",
            "im not good\n",
            "515\n",
            "im not good\n",
            "520\n",
            "im not good\n",
            "525\n",
            "im not good\n",
            "530\n",
            "im not good\n",
            "535\n",
            "im not good\n",
            "540\n",
            "im not good\n",
            "545\n",
            "im not good\n",
            "550\n",
            "im not good\n",
            "555\n",
            "im not good\n",
            "560\n",
            "im not good\n",
            "565\n",
            "im not good\n",
            "570\n",
            "im not good\n",
            "575\n",
            "im not good\n",
            "580\n",
            "im not good\n",
            "585\n",
            "im not good\n",
            "590\n",
            "im not good\n",
            "595\n",
            "im not good\n",
            "600\n",
            "im not good\n",
            "605\n",
            "im not good\n",
            "610\n",
            "im not good\n",
            "615\n",
            "im not good\n",
            "620\n",
            "im not good\n",
            "625\n",
            "im not good\n",
            "630\n",
            "im not good\n",
            "635\n",
            "im not good\n",
            "640\n",
            "im not good\n",
            "645\n",
            "im not good\n",
            "650\n",
            "im not good\n",
            "655\n",
            "im not good\n",
            "660\n",
            "im not good\n",
            "665\n",
            "im not good\n",
            "670\n",
            "im not good\n",
            "675\n",
            "im not good\n",
            "680\n",
            "im not good\n",
            "685\n",
            "im not good\n",
            "690\n",
            "im not good\n",
            "695\n",
            "im not good\n",
            "700\n",
            "im not good\n",
            "705\n",
            "im not good\n",
            "710\n",
            "im not good\n",
            "715\n",
            "im not good\n",
            "720\n",
            "im not good\n",
            "725\n",
            "im not good\n",
            "730\n",
            "im not good\n",
            "735\n",
            "im not good\n",
            "740\n",
            "im not good\n",
            "745\n",
            "im not good\n",
            "750\n",
            "im not good\n",
            "755\n",
            "im not good\n",
            "760\n",
            "im not good\n",
            "765\n",
            "im not good\n",
            "770\n",
            "im not good\n",
            "775\n",
            "im not good\n",
            "780\n",
            "im not good\n",
            "785\n",
            "im not good\n",
            "790\n",
            "im not good\n",
            "795\n",
            "im not good\n",
            "800\n",
            "im not good\n",
            "805\n",
            "im not good\n",
            "810\n",
            "im not good\n",
            "815\n",
            "im not good\n",
            "820\n",
            "im not good\n",
            "825\n",
            "im not good\n",
            "830\n",
            "im not good\n",
            "835\n",
            "im not good\n",
            "840\n",
            "im not good\n",
            "845\n",
            "im not good\n",
            "850\n",
            "im not good\n",
            "855\n",
            "im not good\n",
            "860\n",
            "im not good\n",
            "865\n",
            "im not good\n",
            "870\n",
            "im not good\n",
            "875\n",
            "im not good\n",
            "880\n",
            "im not good\n",
            "885\n",
            "im not good\n",
            "890\n",
            "im not good\n",
            "895\n",
            "im not good\n",
            "900\n",
            "im not good\n",
            "905\n",
            "im not good\n",
            "910\n",
            "im not good\n",
            "915\n",
            "im not good\n",
            "920\n",
            "im not good\n",
            "925\n",
            "im not good\n",
            "930\n",
            "im not good\n",
            "935\n",
            "im not good\n",
            "940\n",
            "im not good\n",
            "945\n",
            "im not good\n",
            "950\n",
            "im not good\n",
            "955\n",
            "im not good\n",
            "960\n",
            "im not good\n",
            "965\n",
            "im not good\n",
            "970\n",
            "im not good\n",
            "975\n",
            "im not good\n",
            "980\n",
            "im not good\n",
            "985\n",
            "im not good\n",
            "990\n",
            "im not good\n",
            "995\n",
            "im not good\n",
            "1000\n",
            "im not good\n",
            "1005\n",
            "im not good\n",
            "1010\n",
            "im not good\n",
            "1015\n",
            "im not good\n",
            "1020\n",
            "im not good\n",
            "1025\n",
            "im not good\n",
            "1030\n",
            "im not good\n",
            "1035\n",
            "im not good\n",
            "1040\n",
            "im not good\n",
            "1045\n",
            "im not good\n",
            "1050\n",
            "im not good\n",
            "1055\n",
            "im not good\n",
            "1060\n",
            "im not good\n",
            "1065\n",
            "im not good\n",
            "1070\n",
            "im not good\n",
            "1075\n",
            "im not good\n",
            "1080\n",
            "im not good\n",
            "1085\n",
            "im not good\n",
            "1090\n",
            "im not good\n",
            "1095\n",
            "im not good\n",
            "1100\n",
            "im not good\n",
            "1105\n",
            "im not good\n",
            "1110\n",
            "im not good\n",
            "1115\n",
            "im not good\n",
            "1120\n",
            "im not good\n",
            "1125\n",
            "im not good\n",
            "1130\n",
            "im not good\n",
            "1135\n",
            "im not good\n",
            "1140\n",
            "im not good\n",
            "1145\n",
            "im not good\n",
            "1150\n",
            "im not good\n",
            "1155\n",
            "im not good\n",
            "1160\n",
            "im not good\n",
            "1165\n",
            "im not good\n",
            "1170\n",
            "im not good\n",
            "1175\n",
            "im not good\n",
            "1180\n",
            "im not good\n",
            "1185\n",
            "im not good\n",
            "1190\n",
            "im not good\n",
            "1195\n",
            "im not good\n",
            "1200\n",
            "im not good\n",
            "1205\n",
            "im not good\n",
            "1210\n",
            "im not good\n",
            "1215\n",
            "im not good\n",
            "1220\n",
            "im not good\n",
            "1225\n",
            "im not good\n",
            "1230\n",
            "im not good\n",
            "1235\n",
            "im not good\n",
            "1240\n",
            "im not good\n",
            "1245\n",
            "im not good\n",
            "1250\n",
            "im not good\n",
            "1255\n",
            "im not good\n",
            "1260\n",
            "im not good\n",
            "1265\n",
            "im not good\n",
            "1270\n",
            "im not good\n",
            "1275\n",
            "im not good\n",
            "1280\n",
            "im not good\n",
            "1285\n",
            "im not good\n",
            "1290\n",
            "im not good\n",
            "1295\n",
            "im not good\n",
            "1300\n",
            "im not good\n",
            "1305\n",
            "im not good\n",
            "1310\n",
            "im not good\n",
            "1315\n",
            "im not good\n",
            "1320\n",
            "im not good\n",
            "1325\n",
            "im not good\n",
            "1330\n",
            "im not good\n",
            "1335\n",
            "im not good\n",
            "1340\n",
            "im not good\n",
            "1345\n",
            "im not good\n",
            "1350\n",
            "im not good\n",
            "1355\n",
            "im not good\n",
            "1360\n",
            "im not good\n",
            "1365\n",
            "im not good\n",
            "1370\n",
            "im not good\n",
            "1375\n",
            "im not good\n",
            "1380\n",
            "im not good\n",
            "1385\n",
            "im not good\n",
            "1390\n",
            "im not good\n",
            "1395\n",
            "im not good\n",
            "1400\n",
            "im not good\n",
            "1405\n",
            "im not good\n",
            "1410\n",
            "im not good\n",
            "1415\n",
            "im not good\n",
            "1420\n",
            "im not good\n",
            "1425\n",
            "im not good\n",
            "1430\n",
            "im not good\n",
            "1435\n",
            "im not good\n",
            "1440\n",
            "im not good\n",
            "1445\n",
            "im not good\n",
            "1450\n",
            "im not good\n",
            "1455\n",
            "im not good\n",
            "1460\n",
            "im not good\n",
            "1465\n",
            "im not good\n",
            "1470\n",
            "im not good\n",
            "1475\n",
            "im not good\n",
            "1480\n",
            "im not good\n",
            "1485\n",
            "im not good\n",
            "1490\n",
            "im not good\n",
            "1495\n",
            "im not good\n",
            "1500\n",
            "im not good\n",
            "1505\n",
            "im not good\n",
            "1510\n",
            "im not good\n",
            "1515\n",
            "im not good\n",
            "1520\n",
            "im not good\n",
            "1525\n",
            "im not good\n",
            "1530\n",
            "im not good\n",
            "1535\n",
            "im not good\n",
            "1540\n",
            "im not good\n",
            "1545\n",
            "im not good\n",
            "1550\n",
            "im not good\n",
            "1555\n",
            "im not good\n",
            "1560\n",
            "im not good\n",
            "1565\n",
            "im not good\n",
            "1570\n",
            "im not good\n",
            "1575\n",
            "im not good\n",
            "1580\n",
            "im not good\n",
            "1585\n",
            "im not good\n",
            "1590\n",
            "im not good\n",
            "1595\n",
            "im not good\n",
            "1600\n",
            "im not good\n",
            "1605\n",
            "im not good\n",
            "1610\n",
            "im not good\n",
            "1615\n",
            "im not good\n",
            "1620\n",
            "im not good\n",
            "1625\n",
            "im not good\n",
            "1630\n",
            "im not good\n",
            "1635\n",
            "im not good\n",
            "1640\n",
            "im not good\n",
            "1645\n",
            "im not good\n",
            "1650\n",
            "im not good\n",
            "1655\n",
            "im not good\n",
            "1660\n",
            "im not good\n",
            "1665\n",
            "im not good\n",
            "1670\n",
            "im not good\n",
            "1675\n",
            "im not good\n",
            "1680\n",
            "im not good\n",
            "1685\n",
            "im not good\n",
            "1690\n",
            "im not good\n",
            "1695\n",
            "im not good\n",
            "1700\n",
            "im not good\n",
            "1705\n",
            "im not good\n",
            "1710\n",
            "im not good\n",
            "1715\n",
            "im not good\n",
            "1720\n",
            "im not good\n",
            "1725\n",
            "im not good\n",
            "1730\n",
            "im not good\n",
            "1735\n",
            "im not good\n",
            "1740\n",
            "im not good\n",
            "1745\n",
            "im not good\n",
            "1750\n",
            "im not good\n",
            "1755\n",
            "im not good\n",
            "1760\n",
            "im not good\n",
            "1765\n",
            "im not good\n",
            "1770\n",
            "im not good\n",
            "1775\n",
            "im not good\n",
            "1780\n",
            "im not good\n",
            "1785\n",
            "im not good\n",
            "1790\n",
            "im not good\n",
            "1795\n",
            "im not good\n",
            "1800\n",
            "im not good\n",
            "1805\n",
            "im not good\n",
            "1810\n",
            "im not good\n",
            "1815\n",
            "im not good\n",
            "1820\n",
            "im not good\n",
            "1825\n",
            "im not good\n",
            "1830\n",
            "im not good\n",
            "1835\n",
            "im not good\n",
            "1840\n",
            "im not good\n",
            "1845\n",
            "im not good\n",
            "1850\n",
            "im not good\n",
            "1855\n",
            "im not good\n",
            "1860\n",
            "im not good\n",
            "1865\n",
            "im not good\n",
            "1870\n",
            "im not good\n",
            "1875\n",
            "im not good\n",
            "1880\n",
            "im not good\n",
            "1885\n",
            "im not good\n",
            "1890\n",
            "im not good\n",
            "1895\n",
            "im not good\n",
            "1900\n",
            "im not good\n",
            "1905\n",
            "im not good\n",
            "1910\n",
            "im not good\n",
            "1915\n",
            "im not good\n",
            "1920\n",
            "im not good\n",
            "1925\n",
            "im not good\n",
            "1930\n",
            "im not good\n",
            "1935\n",
            "im not good\n",
            "1940\n",
            "im not good\n",
            "1945\n",
            "im not good\n",
            "1950\n",
            "im not good\n",
            "1955\n",
            "im not good\n",
            "1960\n",
            "im not good\n",
            "1965\n",
            "im not good\n",
            "1970\n",
            "im not good\n",
            "1975\n",
            "im not good\n",
            "1980\n",
            "im not good\n",
            "1985\n",
            "im not good\n",
            "1990\n",
            "im not good\n",
            "1995\n",
            "im not good\n",
            "2000\n",
            "im not good\n",
            "2005\n",
            "im not good\n",
            "2010\n",
            "im not good\n",
            "2015\n",
            "im not good\n",
            "2020\n",
            "im not good\n",
            "2025\n",
            "im not good\n",
            "2030\n",
            "im not good\n",
            "2035\n",
            "im not good\n",
            "2040\n",
            "im not good\n",
            "2045\n",
            "im not good\n",
            "2050\n",
            "im not good\n",
            "2055\n",
            "im not good\n",
            "2060\n",
            "im not good\n",
            "2065\n",
            "im not good\n",
            "2070\n",
            "im not good\n",
            "2075\n",
            "im not good\n",
            "2080\n",
            "im not good\n",
            "2085\n",
            "im not good\n",
            "2090\n",
            "im not good\n",
            "2095\n",
            "im not good\n",
            "2100\n",
            "im not good\n",
            "2105\n",
            "im not good\n",
            "2110\n",
            "im not good\n",
            "2115\n",
            "im not good\n",
            "2120\n",
            "im not good\n",
            "2125\n",
            "im not good\n",
            "2130\n",
            "im not good\n",
            "2135\n",
            "im not good\n",
            "2140\n",
            "im not good\n",
            "2145\n",
            "im not good\n",
            "2150\n",
            "im not good\n",
            "2155\n",
            "im not good\n",
            "2160\n",
            "im not good\n",
            "2165\n",
            "im not good\n",
            "2170\n",
            "im not good\n",
            "2175\n",
            "im not good\n",
            "2180\n",
            "im not good\n",
            "2185\n",
            "im not good\n",
            "2190\n",
            "im not good\n",
            "2195\n",
            "im not good\n",
            "2200\n",
            "im not good\n",
            "2205\n",
            "im not good\n",
            "2210\n",
            "im not good\n",
            "2215\n",
            "im not good\n",
            "2220\n",
            "im not good\n",
            "2225\n",
            "im not good\n",
            "2230\n",
            "im not good\n",
            "2235\n",
            "im not good\n",
            "2240\n",
            "im not good\n",
            "2245\n",
            "im not good\n",
            "2250\n",
            "im not good\n",
            "2255\n",
            "im not good\n",
            "2260\n",
            "im not good\n",
            "2265\n",
            "im not good\n",
            "2270\n",
            "im not good\n",
            "2275\n",
            "im not good\n",
            "2280\n",
            "im not good\n",
            "2285\n",
            "im not good\n",
            "2290\n",
            "im not good\n",
            "2295\n",
            "im not good\n",
            "2300\n",
            "im not good\n",
            "2305\n",
            "im not good\n",
            "2310\n",
            "im not good\n",
            "2315\n",
            "im not good\n",
            "2320\n",
            "im not good\n",
            "2325\n",
            "im not good\n",
            "2330\n",
            "im not good\n",
            "2335\n",
            "im not good\n",
            "2340\n",
            "im not good\n",
            "2345\n",
            "im not good\n",
            "2350\n",
            "im not good\n",
            "2355\n",
            "im not good\n",
            "2360\n",
            "im not good\n",
            "2365\n",
            "im not good\n",
            "2370\n",
            "im not good\n",
            "2375\n",
            "im not good\n",
            "2380\n",
            "im not good\n",
            "2385\n",
            "im not good\n",
            "2390\n",
            "im not good\n",
            "2395\n",
            "im not good\n",
            "2400\n",
            "im not good\n",
            "2405\n",
            "im not good\n",
            "2410\n",
            "im not good\n",
            "2415\n",
            "im not good\n",
            "2420\n",
            "im not good\n",
            "2425\n",
            "im not good\n",
            "2430\n",
            "im not good\n",
            "2435\n",
            "im not good\n",
            "2440\n",
            "im not good\n",
            "2445\n",
            "im not good\n",
            "2450\n",
            "im not good\n",
            "2455\n",
            "im not good\n",
            "2460\n",
            "im not good\n",
            "2465\n",
            "im not good\n",
            "2470\n",
            "im not good\n",
            "2475\n",
            "im not good\n",
            "2480\n",
            "im not good\n",
            "2485\n",
            "im not good\n",
            "2490\n",
            "im not good\n",
            "2495\n",
            "im not good\n"
          ]
        }
      ]
    },
    {
      "cell_type": "code",
      "metadata": {
        "colab": {
          "base_uri": "https://localhost:8080/"
        },
        "id": "sm6BHOMVXs4n",
        "outputId": "83e2da09-7a32-474f-a081-893b216a1310"
      },
      "source": [
        "i = 1\n",
        "while i < 6:\n",
        "  print(i)\n",
        "  i += 1\n",
        "  "
      ],
      "execution_count": null,
      "outputs": [
        {
          "output_type": "stream",
          "name": "stdout",
          "text": [
            "1\n",
            "2\n",
            "3\n",
            "4\n",
            "5\n"
          ]
        }
      ]
    },
    {
      "cell_type": "code",
      "metadata": {
        "colab": {
          "base_uri": "https://localhost:8080/"
        },
        "id": "IVJUltbUYQiC",
        "outputId": "5235e955-3439-4d29-c9a2-1e13cf4e7b07"
      },
      "source": [
        "colors=[\"blue\",\"green\",\"orange\",\"yellow\"]\n",
        "\n",
        "for x in colors:\n",
        "  print(x)"
      ],
      "execution_count": null,
      "outputs": [
        {
          "output_type": "stream",
          "name": "stdout",
          "text": [
            "blue\n",
            "green\n",
            "orange\n",
            "yellow\n"
          ]
        }
      ]
    },
    {
      "cell_type": "code",
      "metadata": {
        "colab": {
          "base_uri": "https://localhost:8080/"
        },
        "id": "Af6IPQsnZHnq",
        "outputId": "a3e9a611-6f75-416e-9d74-7c37b07f6f19"
      },
      "source": [
        " for n in range(2, 10):\n",
        "...     for x in range(2, n):\n",
        "...         if n % x == 0:\n",
        "...             print(n, 'equals', x, '*', n//x)\n",
        "...             break\n",
        "...     else:\n",
        "...         # loop fell through without finding a factor\n",
        "...         print(n, 'is a prime number')"
      ],
      "execution_count": null,
      "outputs": [
        {
          "output_type": "stream",
          "name": "stdout",
          "text": [
            "2 is a prime number\n",
            "3 is a prime number\n",
            "4 equals 2 * 2\n",
            "5 is a prime number\n",
            "6 equals 2 * 3\n",
            "7 is a prime number\n",
            "8 equals 2 * 4\n",
            "9 equals 3 * 3\n"
          ]
        }
      ]
    }
  ]
}